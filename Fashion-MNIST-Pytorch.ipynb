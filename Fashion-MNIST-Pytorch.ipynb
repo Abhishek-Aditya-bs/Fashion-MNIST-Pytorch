{
 "cells": [
  {
   "cell_type": "markdown",
   "id": "e85f1b8e",
   "metadata": {},
   "source": [
    "# Import all the Libraries"
   ]
  },
  {
   "cell_type": "code",
   "execution_count": 1,
   "id": "24c7c60a",
   "metadata": {},
   "outputs": [
    {
     "data": {
      "text/plain": [
       "<torch.autograd.grad_mode.set_grad_enabled at 0x7fe15488d2b0>"
      ]
     },
     "execution_count": 1,
     "metadata": {},
     "output_type": "execute_result"
    }
   ],
   "source": [
    "import numpy as np\n",
    "import torch\n",
    "import torchvision\n",
    "import torchvision.transforms as transforms\n",
    "import torch.nn as nn\n",
    "import torch.nn.functional as F\n",
    "import torch.optim as optim\n",
    "import matplotlib.pyplot as plt \n",
    "from sklearn.metrics import confusion_matrix\n",
    "import itertools\n",
    "\n",
    "import warnings\n",
    "warnings.filterwarnings('ignore')\n",
    "\n",
    "from torch.utils.tensorboard import SummaryWriter\n",
    "torch.set_printoptions(linewidth=120)\n",
    "torch.set_grad_enabled(True)"
   ]
  },
  {
   "cell_type": "code",
   "execution_count": 2,
   "id": "0b9ce640",
   "metadata": {},
   "outputs": [
    {
     "name": "stdout",
     "output_type": "stream",
     "text": [
      "1.9.0\n",
      "0.2.2\n"
     ]
    }
   ],
   "source": [
    "print(torch.__version__)\n",
    "print(torchvision.__version__)"
   ]
  },
  {
   "cell_type": "markdown",
   "id": "f07f1929",
   "metadata": {},
   "source": [
    "# Function to print the correct number of predictions"
   ]
  },
  {
   "cell_type": "code",
   "execution_count": 3,
   "id": "950c32c7",
   "metadata": {},
   "outputs": [],
   "source": [
    "def get_num_correct(preds,labels):\n",
    "    return preds.argmax(dim=1).eq(labels).sum().item()"
   ]
  },
  {
   "cell_type": "markdown",
   "id": "d590a1ff",
   "metadata": {},
   "source": [
    "# The output size formula is given by \n",
    "    if its n x n input\n",
    "    O = (n-f+2p/s)+1 \n",
    "    \n",
    "    if its non square \n",
    "    Oh = nh-fh+2p/s +1\n",
    "    Ow = nw-fw+2p/s+1\n",
    "    \n",
    "   n -> input size\n",
    "   \n",
    "   p -> padding\n",
    "   \n",
    "   s -> stride length\n",
    "   \n",
    "   f -> filter size\n",
    "    \n",
    "    \n",
    "        "
   ]
  },
  {
   "cell_type": "markdown",
   "id": "34767135",
   "metadata": {},
   "source": [
    "# Define the  Convolutional Neural Network"
   ]
  },
  {
   "cell_type": "code",
   "execution_count": 4,
   "id": "7696f4f0",
   "metadata": {},
   "outputs": [],
   "source": [
    "class Network(nn.Module):\n",
    "    def __init__(self):\n",
    "        super(Network,self).__init__()\n",
    "        self.conv1 = nn.Conv2d(in_channels=1, out_channels=6,kernel_size=5)\n",
    "        self.batch_norm_1 = nn.BatchNorm2d(6)\n",
    "        self.conv2 = nn.Conv2d(in_channels=6, out_channels=12, kernel_size=5)\n",
    "        \n",
    "        self.fc1 = nn.Linear(in_features=12*4*4, out_features=120)\n",
    "        self.batch_norm_2 = nn.BatchNorm1d(120)\n",
    "        self.fc2 = nn.Linear(in_features=120, out_features=60)\n",
    "        self.out= nn.Linear(in_features=60, out_features=10)\n",
    "        \n",
    "        \n",
    "        \n",
    "        \n",
    "    def forward(self,t):\n",
    "        #input layer\n",
    "        t=t\n",
    "        \n",
    "        #hidden conv layer\n",
    "        t=self.conv1(t)\n",
    "        t=F.relu(t)\n",
    "        t=F.max_pool2d(t,kernel_size=2, stride=2)\n",
    "        t=self.batch_norm_1(t)\n",
    "        \n",
    "        #hidden conv layer\n",
    "        t=self.conv2(t)\n",
    "        t=F.relu(t)\n",
    "        t=F.max_pool2d(t,kernel_size=2, stride=2)\n",
    "        \n",
    "        #hidden linear layer\n",
    "        t=t.reshape(-1,12*4*4)\n",
    "        t=self.fc1(t)\n",
    "        t=F.relu(t)\n",
    "        t=self.batch_norm_2(t)\n",
    "        \n",
    "        #hidden linear layer\n",
    "        t=self.fc2(t)\n",
    "        t=F.relu(t)\n",
    "        \n",
    "        #output layer\n",
    "        t=self.out(t)\n",
    "        #t=F.softmax(t,dim=1) \n",
    "        #no need of this line since loss function will perform the softmax operation\n",
    "        return t"
   ]
  },
  {
   "cell_type": "markdown",
   "id": "ac69528a",
   "metadata": {},
   "source": [
    "# Import the Dataset"
   ]
  },
  {
   "cell_type": "code",
   "execution_count": 5,
   "id": "38c900ae",
   "metadata": {},
   "outputs": [],
   "source": [
    "train_set = torchvision.datasets.FashionMNIST(\n",
    "    root='./data/FashionMNIST'\n",
    "    ,train=True \n",
    "    ,download=True\n",
    "    ,transform=transforms.Compose([transforms.ToTensor()])\n",
    ")"
   ]
  },
  {
   "cell_type": "code",
   "execution_count": 6,
   "id": "5b6fa04d",
   "metadata": {},
   "outputs": [
    {
     "name": "stdout",
     "output_type": "stream",
     "text": [
      "0.28604060411453247\n",
      "0.3530242443084717\n"
     ]
    }
   ],
   "source": [
    "train_loader_normal = torch.utils.data.DataLoader(train_set,batch_size=len(train_set),\n",
    "                                               num_workers=1)\n",
    "data = next(iter(train_loader_normal))\n",
    "mean = data[0].mean()\n",
    "std = data[0].std()\n",
    "print(mean.item())\n",
    "print(std.item())"
   ]
  },
  {
   "cell_type": "code",
   "execution_count": 7,
   "id": "baae6e4f",
   "metadata": {},
   "outputs": [
    {
     "name": "stdout",
     "output_type": "stream",
     "text": [
      "Dataset FashionMNIST\n",
      "    Number of datapoints: 60000\n",
      "    Split: train\n",
      "    Root Location: ./data/FashionMNIST\n",
      "    Transforms (if any): Compose(\n",
      "                             ToTensor()\n",
      "                             Normalize(mean=(0.28604060411453247,), std=(0.3530242443084717,))\n",
      "                         )\n",
      "    Target Transforms (if any): None\n"
     ]
    }
   ],
   "source": [
    "train_set_normal = torchvision.datasets.FashionMNIST(\n",
    "    root='./data/FashionMNIST'\n",
    "    ,train=True \n",
    "    ,download=True\n",
    "    ,transform=transforms.Compose([\n",
    "        transforms.ToTensor()\n",
    "        ,transforms.Normalize((mean.item(),), (std.item(),))\n",
    "    ])\n",
    ")\n",
    "print(train_set_normal)"
   ]
  },
  {
   "cell_type": "code",
   "execution_count": 8,
   "id": "dd5bc3cd",
   "metadata": {},
   "outputs": [
    {
     "name": "stdout",
     "output_type": "stream",
     "text": [
      "mean -2.910588037252637e-08 \t std 1.0\n"
     ]
    }
   ],
   "source": [
    "train_loader_normal_2 = torch.utils.data.DataLoader(train_set_normal,batch_size=len(train_set),\n",
    "                                               num_workers=1)\n",
    "data = next(iter(train_loader_normal_2))\n",
    "mean = data[0].mean()\n",
    "std = data[0].std()\n",
    "print(\"mean\",mean.item(),\"\\t\",\"std\",std.item())"
   ]
  },
  {
   "cell_type": "markdown",
   "id": "c5bccb2d",
   "metadata": {},
   "source": [
    "# Check if GPU is available"
   ]
  },
  {
   "cell_type": "code",
   "execution_count": 9,
   "id": "0215da8c",
   "metadata": {},
   "outputs": [
    {
     "name": "stdout",
     "output_type": "stream",
     "text": [
      "True\n"
     ]
    }
   ],
   "source": [
    "print(torch.cuda.is_available())"
   ]
  },
  {
   "cell_type": "markdown",
   "id": "a9ef9315",
   "metadata": {},
   "source": [
    "# Run Builder class Implementation"
   ]
  },
  {
   "cell_type": "code",
   "execution_count": 10,
   "id": "1126b7a6",
   "metadata": {},
   "outputs": [
    {
     "name": "stdout",
     "output_type": "stream",
     "text": [
      "[Run(lr=0.01, batch_size=1000, device='cuda', num_workers=16, trainset='normal')]\n"
     ]
    }
   ],
   "source": [
    "from collections import OrderedDict\n",
    "from collections import namedtuple\n",
    "from itertools import product\n",
    "import time\n",
    "\n",
    "class RunBuilder():\n",
    "    @staticmethod\n",
    "    def get_runs(params):\n",
    "        Run = namedtuple('Run', params.keys())\n",
    "        \n",
    "        runs = []\n",
    "        for v in product(*params.values()):\n",
    "            runs.append(Run(*v))\n",
    "            \n",
    "        return runs\n",
    "    \n",
    "trainsets = {'not_normal': train_set,'normal': train_set_normal}\n",
    "\n",
    "params = OrderedDict(\n",
    "    lr = [0.01]\n",
    "    ,batch_size = [1000]\n",
    "    ,device = ['cuda']\n",
    "    ,num_workers = [16]\n",
    "    ,trainset = ['normal']\n",
    ")\n",
    "\n",
    "\n",
    "\n",
    "runs = RunBuilder.get_runs(params)\n",
    "print(runs)"
   ]
  },
  {
   "cell_type": "markdown",
   "id": "4706dc9e",
   "metadata": {},
   "source": [
    "# Training Loop"
   ]
  },
  {
   "cell_type": "code",
   "execution_count": 11,
   "id": "dfc62a79",
   "metadata": {},
   "outputs": [
    {
     "name": "stdout",
     "output_type": "stream",
     "text": [
      "Run(lr=0.01, batch_size=1000, device='cuda', num_workers=16, trainset='normal')\n",
      "epoch 0 \n",
      " total_correct: 47393 \n",
      " loss: 34619.163781404495 \n",
      " accuracy: 0.7898833333333334 \n",
      " Duration 1.514817714691162 \n",
      " Device = cuda \n",
      "\n",
      "epoch 1 \n",
      " total_correct: 52254 \n",
      " loss: 20722.450017929077 \n",
      " accuracy: 0.8709 \n",
      " Duration 1.5457768440246582 \n",
      " Device = cuda \n",
      "\n",
      "epoch 2 \n",
      " total_correct: 53172 \n",
      " loss: 18196.86058163643 \n",
      " accuracy: 0.8862 \n",
      " Duration 1.4904193878173828 \n",
      " Device = cuda \n",
      "\n",
      "epoch 3 \n",
      " total_correct: 53614 \n",
      " loss: 16977.548986673355 \n",
      " accuracy: 0.8935666666666666 \n",
      " Duration 1.532029628753662 \n",
      " Device = cuda \n",
      "\n",
      "epoch 4 \n",
      " total_correct: 53958 \n",
      " loss: 15968.62517297268 \n",
      " accuracy: 0.8993 \n",
      " Duration 1.5131056308746338 \n",
      " Device = cuda \n",
      "\n",
      "epoch 5 \n",
      " total_correct: 54341 \n",
      " loss: 15118.936017155647 \n",
      " accuracy: 0.9056833333333333 \n",
      " Duration 1.5159950256347656 \n",
      " Device = cuda \n",
      "\n",
      "epoch 6 \n",
      " total_correct: 54459 \n",
      " loss: 14650.513112545013 \n",
      " accuracy: 0.90765 \n",
      " Duration 1.6037158966064453 \n",
      " Device = cuda \n",
      "\n",
      "epoch 7 \n",
      " total_correct: 54583 \n",
      " loss: 14296.108856797218 \n",
      " accuracy: 0.9097166666666666 \n",
      " Duration 1.6038274765014648 \n",
      " Device = cuda \n",
      "\n",
      "epoch 8 \n",
      " total_correct: 54904 \n",
      " loss: 13552.32159793377 \n",
      " accuracy: 0.9150666666666667 \n",
      " Duration 1.5883610248565674 \n",
      " Device = cuda \n",
      "\n",
      "epoch 9 \n",
      " total_correct: 55064 \n",
      " loss: 13069.137185811996 \n",
      " accuracy: 0.9177333333333333 \n",
      " Duration 1.588007926940918 \n",
      " Device = cuda \n",
      "\n",
      "epoch 10 \n",
      " total_correct: 55254 \n",
      " loss: 12564.37748670578 \n",
      " accuracy: 0.9209 \n",
      " Duration 1.684377908706665 \n",
      " Device = cuda \n",
      "\n",
      "epoch 11 \n",
      " total_correct: 55245 \n",
      " loss: 12413.231253623962 \n",
      " accuracy: 0.92075 \n",
      " Duration 1.6289737224578857 \n",
      " Device = cuda \n",
      "\n",
      "epoch 12 \n",
      " total_correct: 55430 \n",
      " loss: 11990.003824234009 \n",
      " accuracy: 0.9238333333333333 \n",
      " Duration 1.5714399814605713 \n",
      " Device = cuda \n",
      "\n",
      "epoch 13 \n",
      " total_correct: 55510 \n",
      " loss: 11766.951322555542 \n",
      " accuracy: 0.9251666666666667 \n",
      " Duration 1.6012756824493408 \n",
      " Device = cuda \n",
      "\n",
      "epoch 14 \n",
      " total_correct: 55752 \n",
      " loss: 11176.421791315079 \n",
      " accuracy: 0.9292 \n",
      " Duration 1.6203222274780273 \n",
      " Device = cuda \n",
      "\n",
      "epoch 15 \n",
      " total_correct: 55773 \n",
      " loss: 11099.62221980095 \n",
      " accuracy: 0.92955 \n",
      " Duration 1.543518304824829 \n",
      " Device = cuda \n",
      "\n",
      "epoch 16 \n",
      " total_correct: 55873 \n",
      " loss: 10819.642037153244 \n",
      " accuracy: 0.9312166666666667 \n",
      " Duration 1.566931962966919 \n",
      " Device = cuda \n",
      "\n",
      "epoch 17 \n",
      " total_correct: 56017 \n",
      " loss: 10412.508681416512 \n",
      " accuracy: 0.9336166666666667 \n",
      " Duration 1.5583293437957764 \n",
      " Device = cuda \n",
      "\n",
      "epoch 18 \n",
      " total_correct: 56211 \n",
      " loss: 9993.138253688812 \n",
      " accuracy: 0.93685 \n",
      " Duration 1.5672109127044678 \n",
      " Device = cuda \n",
      "\n",
      "epoch 19 \n",
      " total_correct: 56428 \n",
      " loss: 9461.425870656967 \n",
      " accuracy: 0.9404666666666667 \n",
      " Duration 1.5267527103424072 \n",
      " Device = cuda \n",
      "\n"
     ]
    }
   ],
   "source": [
    "for run in RunBuilder.get_runs(params):\n",
    "    print(f'{run}')\n",
    "    \n",
    "    device = torch.device(run.device)\n",
    "    network = Network().to(device)\n",
    "\n",
    "    train_loader = torch.utils.data.DataLoader(trainsets[run.trainset],batch_size=run.batch_size,\n",
    "                                               num_workers=run.num_workers)\n",
    "    optimizer = optim.Adam(network.parameters(), lr=run.lr)\n",
    "\n",
    "    images, labels = next(iter(train_loader))\n",
    "    grid = torchvision.utils.make_grid(images)\n",
    "\n",
    "    comment = f'-{run}'\n",
    "    tb = SummaryWriter(comment=comment)\n",
    "    tb.add_image('images', grid)\n",
    "    tb.add_graph(network, images.to(getattr(run,'device','cpu')))\n",
    "\n",
    "    for epoch in range(20):\n",
    "        \n",
    "        epoch_start = time.time()\n",
    "        total_loss = 0\n",
    "        total_correct = 0\n",
    "\n",
    "        for batch in train_loader:\n",
    "            images = batch[0].to(device)\n",
    "            labels = batch[1].to(device)\n",
    "            \n",
    "            preds = network(images)\n",
    "            loss = F.cross_entropy(preds, labels)\n",
    "\n",
    "            optimizer.zero_grad()\n",
    "            loss.backward() #calculate gradients\n",
    "            optimizer.step() #Update weights\n",
    "\n",
    "\n",
    "            total_loss+=loss.item() * run.batch_size\n",
    "            total_correct+=get_num_correct(preds, labels)\n",
    "\n",
    "        tb.add_scalar('Loss',total_loss, epoch)\n",
    "        tb.add_scalar('Number Correct', total_correct, epoch)\n",
    "        tb.add_scalar('Accuracy', total_correct/len(train_set), epoch)\n",
    "\n",
    "        for name, weight in network.named_parameters():\n",
    "            tb.add_histogram(name,weight,epoch)\n",
    "            tb.add_histogram(f'{name}.grad',weight.grad,epoch)\n",
    "        epoch_end = time.time()\n",
    "        epoch_duration = epoch_end - epoch_start\n",
    "\n",
    "        print(\"epoch\",epoch,\"\\n\",\"total_correct:\",total_correct,\"\\n\",\"loss:\",\n",
    "              total_loss,\"\\n\",\"accuracy:\",total_correct/len(train_set),\n",
    "              \"\\n\",'Duration',epoch_duration,\"\\n\",'Device =',run.device,\"\\n\")\n",
    "\n",
    "    tb.close()\n"
   ]
  },
  {
   "cell_type": "markdown",
   "id": "58f6b5ee",
   "metadata": {},
   "source": [
    "# Building Confusion Matrix"
   ]
  },
  {
   "cell_type": "code",
   "execution_count": 12,
   "id": "d88fabe5",
   "metadata": {},
   "outputs": [],
   "source": [
    "def get_all_preds(model,loader):\n",
    "    all_preds = torch.tensor([]).to(torch.device('cuda'))\n",
    "    for batch in loader:\n",
    "        images = batch[0].to(torch.device('cuda'))\n",
    "        labels = batch[1].to(torch.device('cuda'))\n",
    "        \n",
    "        preds = model(images)\n",
    "        all_preds = torch.cat(\n",
    "            (all_preds,preds),dim=0)\n",
    "        \n",
    "    return all_preds"
   ]
  },
  {
   "cell_type": "code",
   "execution_count": 13,
   "id": "dece4138",
   "metadata": {},
   "outputs": [],
   "source": [
    "train_loader = torch.utils.data.DataLoader(train_set_normal,batch_size=1000,\n",
    "                                               num_workers=16)\n",
    "with torch.no_grad():\n",
    "    train_preds = get_all_preds(network, train_loader)"
   ]
  },
  {
   "cell_type": "code",
   "execution_count": 14,
   "id": "cc3d7a44",
   "metadata": {},
   "outputs": [
    {
     "name": "stdout",
     "output_type": "stream",
     "text": [
      "Total Correct: 56343\n",
      "Accuracy 0.93905\n"
     ]
    }
   ],
   "source": [
    "preds_correct = get_num_correct(train_preds, train_set.targets.to(torch.device('cuda')))\n",
    "\n",
    "print('Total Correct:', preds_correct)\n",
    "print('Accuracy', preds_correct / len(train_set))"
   ]
  },
  {
   "cell_type": "code",
   "execution_count": 15,
   "id": "44b47c83",
   "metadata": {},
   "outputs": [],
   "source": [
    "stacked = torch.stack(\n",
    "    (\n",
    "        train_set.targets.to(torch.device('cuda')),\n",
    "        train_preds.argmax(dim=1)\n",
    "    )\n",
    "    ,dim=1\n",
    ")"
   ]
  },
  {
   "cell_type": "code",
   "execution_count": 16,
   "id": "0d44df0c",
   "metadata": {},
   "outputs": [
    {
     "name": "stdout",
     "output_type": "stream",
     "text": [
      "tensor([[5414,    1,   79,   56,    8,    2,  432,    0,    8,    0],\n",
      "        [  10, 5932,    3,   34,    7,    0,   14,    0,    0,    0],\n",
      "        [  41,    1, 5565,   24,  197,    0,  171,    0,    1,    0],\n",
      "        [  65,    7,   11, 5671,  182,    0,   60,    0,    4,    0],\n",
      "        [   6,    2,  290,   62, 5441,    0,  199,    0,    0,    0],\n",
      "        [   0,    1,    0,    0,    0, 5959,    0,   21,    0,   19],\n",
      "        [ 459,    0,  382,   68,  292,    0, 4796,    0,    3,    0],\n",
      "        [   0,    0,    0,    0,    1,   41,    0, 5700,    5,  253],\n",
      "        [  11,    3,   11,    7,   19,    1,   19,    1, 5926,    2],\n",
      "        [   0,    0,    0,    0,    1,    6,    0,   53,    1, 5939]], dtype=torch.int32)\n"
     ]
    }
   ],
   "source": [
    "cmt = torch.zeros(10,10, dtype=torch.int32)\n",
    "\n",
    "\n",
    "for p in stacked:\n",
    "    j, k =p.tolist()\n",
    "    cmt[j,k] = cmt[j,k] +1\n",
    "\n",
    "print(cmt)"
   ]
  },
  {
   "cell_type": "markdown",
   "id": "32e92205",
   "metadata": {},
   "source": [
    "# Plotting the confusion matrix"
   ]
  },
  {
   "cell_type": "code",
   "execution_count": 17,
   "id": "d2ba597c",
   "metadata": {},
   "outputs": [],
   "source": [
    "# Run this cell only when tensors are on CPU\n",
    "\n",
    "# cm = confusion_matrix(train_set.targets, train_preds.argmax(dim=1))\n",
    "# print(type(cm))\n",
    "# cm"
   ]
  },
  {
   "cell_type": "code",
   "execution_count": 18,
   "id": "54ed346d",
   "metadata": {},
   "outputs": [],
   "source": [
    "def plot_confusion_matrix(cm, classes, normalize=False, title='Confusion matrix', cmap=plt.cm.Blues):\n",
    "    if normalize:\n",
    "        cm = cm.astype('float') / cm.sum(axis=1)[:, np.newaxis]\n",
    "        print(\"Normalized confusion matrix\")\n",
    "    else:\n",
    "        print('Confusion matrix, without normalization')\n",
    "\n",
    "    print(cm)\n",
    "    plt.imshow(cm, interpolation='nearest', cmap=cmap)\n",
    "    plt.title(title)\n",
    "    plt.colorbar()\n",
    "    tick_marks = np.arange(len(classes))\n",
    "    plt.xticks(tick_marks, classes, rotation=45)\n",
    "    plt.yticks(tick_marks, classes)\n",
    "\n",
    "    fmt = '.2f' if normalize else 'd'\n",
    "    thresh = cm.max() / 2.\n",
    "    for i, j in itertools.product(range(cm.shape[0]), range(cm.shape[1])):\n",
    "        plt.text(j, i, format(cm[i, j], fmt), horizontalalignment=\"center\", color=\"white\" if cm[i, j] > thresh else \"black\")\n",
    "\n",
    "    plt.tight_layout()\n",
    "    plt.ylabel('True label')\n",
    "    plt.xlabel('Predicted label')"
   ]
  },
  {
   "cell_type": "code",
   "execution_count": 19,
   "id": "d489bd00",
   "metadata": {},
   "outputs": [
    {
     "name": "stdout",
     "output_type": "stream",
     "text": [
      "Confusion matrix, without normalization\n",
      "tensor([[5414,    1,   79,   56,    8,    2,  432,    0,    8,    0],\n",
      "        [  10, 5932,    3,   34,    7,    0,   14,    0,    0,    0],\n",
      "        [  41,    1, 5565,   24,  197,    0,  171,    0,    1,    0],\n",
      "        [  65,    7,   11, 5671,  182,    0,   60,    0,    4,    0],\n",
      "        [   6,    2,  290,   62, 5441,    0,  199,    0,    0,    0],\n",
      "        [   0,    1,    0,    0,    0, 5959,    0,   21,    0,   19],\n",
      "        [ 459,    0,  382,   68,  292,    0, 4796,    0,    3,    0],\n",
      "        [   0,    0,    0,    0,    1,   41,    0, 5700,    5,  253],\n",
      "        [  11,    3,   11,    7,   19,    1,   19,    1, 5926,    2],\n",
      "        [   0,    0,    0,    0,    1,    6,    0,   53,    1, 5939]], dtype=torch.int32)\n"
     ]
    },
    {
     "data": {
      "image/png": "[encoded data removed]",
      "text/plain": [
       "<Figure size 720x720 with 2 Axes>"
      ]
     },
     "metadata": {
      "needs_background": "light"
     },
     "output_type": "display_data"
    }
   ],
   "source": [
    "names = tuple(train_set.classes)\n",
    "plt.figure(figsize=(10,10))\n",
    "plot_confusion_matrix(cmt, names)"
   ]
  },
  {
   "cell_type": "code",
   "execution_count": null,
   "id": "7baa74bc",
   "metadata": {},
   "outputs": [],
   "source": []
  }
 ],
 "metadata": {
  "kernelspec": {
   "display_name": "Python 3",
   "language": "python",
   "name": "python3"
  },
  "language_info": {
   "codemirror_mode": {
    "name": "ipython",
    "version": 3
   },
   "file_extension": ".py",
   "mimetype": "text/x-python",
   "name": "python",
   "nbconvert_exporter": "python",
   "pygments_lexer": "ipython3",
   "version": "3.9.5"
  }
 },
 "nbformat": 4,
 "nbformat_minor": 5
}
